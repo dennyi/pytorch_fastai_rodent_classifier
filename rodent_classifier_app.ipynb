{
 "cells": [
  {
   "cell_type": "code",
   "execution_count": 11,
   "metadata": {},
   "outputs": [],
   "source": [
    "from fastbook import *\n",
    "from fastai.vision.widgets import *\n",
    "import ipywidgets as widgets\n",
    "import urllib.request"
   ]
  },
  {
   "cell_type": "code",
   "execution_count": 12,
   "metadata": {},
   "outputs": [
    {
     "data": {
      "text/plain": [
       "('model.pkl', <http.client.HTTPMessage at 0x7f6e3c2a7d60>)"
      ]
     },
     "execution_count": 12,
     "metadata": {},
     "output_type": "execute_result"
    }
   ],
   "source": [
    "MODEL_URL = \"https://www.dropbox.com/s/5ewsy4md81lfgc3/r34_ep6_err0_053.pkl?dl=1\"\n",
    "urllib.request.urlretrieve(MODEL_URL, \"model.pkl\")"
   ]
  },
  {
   "cell_type": "code",
   "execution_count": 13,
   "metadata": {},
   "outputs": [],
   "source": [
    "learner = load_learner(\"model.pkl\")"
   ]
  },
  {
   "cell_type": "code",
   "execution_count": null,
   "metadata": {},
   "outputs": [],
   "source": [
    "def predict_image(context):\n",
    "    img = PILImage.create(uploader.data[-1])\n",
    "    image = widgets.Image(\n",
    "        value=uploader.data[-1],\n",
    "        width=200,\n",
    "        height=200,\n",
    "    )\n",
    "    vbox.children = [output, image, uploader]\n",
    "    prediction = learner.predict(img)\n",
    "    \n",
    "    output.value = f'There probably is a <b>{prediction[0]}</b> in this picture. (Confidence: {round(int(prediction[2][prediction[1]] * 100))}%)'"
   ]
  },
  {
   "cell_type": "code",
   "execution_count": null,
   "metadata": {},
   "outputs": [],
   "source": [
    "uploader = widgets.FileUpload(\n",
    "    accept='image/*',  # Accepted file extension e.g. '.txt', '.pdf', 'image/*', 'image/*,.pdf'\n",
    "    multiple=False  # True to accept multiple files upload else False\n",
    ")\n",
    "uploader.observe(predict_image , \"_counter\")\n",
    "\n",
    "\n",
    "output = widgets.HTML(\n",
    "    value=\"Select an image\",\n",
    ")\n",
    "\n",
    "vbox = widgets.VBox([output,  uploader])\n",
    "vbox"
   ]
  },
  {
   "cell_type": "code",
   "execution_count": null,
   "metadata": {},
   "outputs": [],
   "source": [
    "\n"
   ]
  },
  {
   "cell_type": "code",
   "execution_count": null,
   "metadata": {},
   "outputs": [],
   "source": []
  }
 ],
 "metadata": {
  "kernelspec": {
   "display_name": "Python 3",
   "language": "python",
   "name": "python3"
  },
  "language_info": {
   "codemirror_mode": {
    "name": "ipython",
    "version": 3
   },
   "file_extension": ".py",
   "mimetype": "text/x-python",
   "name": "python",
   "nbconvert_exporter": "python",
   "pygments_lexer": "ipython3",
   "version": "3.8.5"
  }
 },
 "nbformat": 4,
 "nbformat_minor": 4
}
